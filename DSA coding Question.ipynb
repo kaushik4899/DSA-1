{
 "cells": [
  {
   "cell_type": "code",
   "execution_count": 1,
   "id": "b801090e",
   "metadata": {},
   "outputs": [
    {
     "name": "stdout",
     "output_type": "stream",
     "text": [
      "Enter the number of rows5\n",
      "A \n",
      "B B \n",
      "C C C \n",
      "D D D D \n",
      "E E E E E \n"
     ]
    }
   ],
   "source": [
    "#1)Write a Python Program to print half pyramid using alphabets.\n",
    "\n",
    "row=int(input(\"Enter the number of rows\"))\n",
    "value=65 #Ascii value of A\n",
    "for i in range(row):\n",
    "    for j in range(i+1):\n",
    "        print(chr(value),end=\" \")\n",
    "    value=value+1\n",
    "    print()"
   ]
  },
  {
   "cell_type": "code",
   "execution_count": null,
   "id": "2a9ff234",
   "metadata": {},
   "outputs": [],
   "source": []
  }
 ],
 "metadata": {
  "kernelspec": {
   "display_name": "Python 3 (ipykernel)",
   "language": "python",
   "name": "python3"
  },
  "language_info": {
   "codemirror_mode": {
    "name": "ipython",
    "version": 3
   },
   "file_extension": ".py",
   "mimetype": "text/x-python",
   "name": "python",
   "nbconvert_exporter": "python",
   "pygments_lexer": "ipython3",
   "version": "3.9.12"
  }
 },
 "nbformat": 4,
 "nbformat_minor": 5
}
